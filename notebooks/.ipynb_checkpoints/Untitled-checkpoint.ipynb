{
 "cells": [
  {
   "cell_type": "code",
   "execution_count": 1,
   "metadata": {},
   "outputs": [],
   "source": [
    "import pandas as pd\n",
    "import numpy as np\n",
    "import matplotlib.pyplot as plt\n",
    "import seaborn as sns\n",
    "from ipywidgets import interact\n",
    "import ipywidgets as widgets\n",
    "import pickle\n",
    "from utils import *"
   ]
  },
  {
   "cell_type": "code",
   "execution_count": 2,
   "metadata": {},
   "outputs": [],
   "source": [
    "with open(\"../data/polygons-pickle.txt\", \"r+b\") as f:\n",
    "    polygons = pickle.load(f)"
   ]
  },
  {
   "cell_type": "code",
   "execution_count": 3,
   "metadata": {},
   "outputs": [],
   "source": [
    "from planar import Polygon"
   ]
  },
  {
   "cell_type": "code",
   "execution_count": 4,
   "metadata": {},
   "outputs": [
    {
     "data": {
      "text/plain": [
       "Polygon([(41.0037, -104.056), (44.9949, -104.058), (44.9998, -111.054), (40.9986, -111.046), (41.0006, -104.056), (41.0037, -104.056)])"
      ]
     },
     "execution_count": 4,
     "metadata": {},
     "output_type": "execute_result"
    }
   ],
   "source": [
    "polygons = {state : Polygon(polygons[state]) for state in polygons}\n",
    "polygons[\"Wyoming\"]"
   ]
  },
  {
   "cell_type": "code",
   "execution_count": 5,
   "metadata": {},
   "outputs": [
    {
     "data": {
      "text/plain": [
       "Polygon([(70.0187, -141.02), (70.1292, -141.729), (70.4515, -144.816), (70.7471, -148.458), (70.7923, -151.161), (71.147, -152.622), (71.1185, -153.995), (71.4307, -154.885), (71.5232, -156.753), (71.2796, -157.945), (71.2249, -159.631), (70.6363, -161.867), (70.0843, -163.581), (69.3028, -165.24), (69.1782, -166.877), (68.3344, -168.041), (67.6844, -165.916), (67.2933, -164.608), (66.7789, -164.015), (66.581, -165.751), (66.2867, -167.575), (66.0269, -168.986), (65.497, -168.948), (65.042, -167.476), (64.3922, -167.014), (64.0554, -165.734), (64.0193, -163.229), (63.9615, -162.114), (63.6877, -163.603), (63.453, -165.372), (62.4133, -166.371), (61.6534, -166.987), (60.8556, -166.443), (60.5357, -167.838), (59.5482, -167.712), (59.4115, -165.8), (59.3696, -164.597), (59.1168, -162.856), (58.1185, -162.543), (58.1359, -160.642), (58.0285, -159.505), (57.6336, -158.895), (56.909, -159.906), (56.3926, -160.653), (56.2342, -161.883), (55.724, -162.982), (55.2478, -164.399), (54.7753, -165.317), (54.1463, -167.107), (53.5632, -168.585), (53.1402, -169.915), (52.5964, -169.596), (52.9089, -168.223), (54.2139, -162.773), (54.6786, -159.145), (55.6567, -155.463), (57.351, -152.14), (59.2209, -150.82), (59.7695, -147.446), (60.3521, -145.985), (59.8917, -144.154), (59.8172, -141.681), (59.5225, -140.512), (59.0292, -138.855), (57.9032, -136.853), (56.9157, -136.072), (56.1555, -134.979), (55.3237, -134.006), (54.6341, -133.642), (54.7135, -130.626), (55.2869, -129.993), (55.9869, -130.011), (56.1057, -130.108), (56.6086, -131.589), (57.8404, -132.875), (58.7276, -133.842), (59.3108, -134.912), (59.802, -135.472), (59.6039, -136.345), (59.1619, -136.825), (59.2441, -137.608), (60.0902, -139.212), (60.3575, -139.094), (60.1866, -140.006), (60.3059, -141), (70.0187, -141.02)])"
      ]
     },
     "execution_count": 5,
     "metadata": {},
     "output_type": "execute_result"
    }
   ],
   "source": [
    "alaska_polygon = polygons[\"Alaska\"]\n",
    "alaska_polygon"
   ]
  },
  {
   "cell_type": "code",
   "execution_count": 7,
   "metadata": {
    "scrolled": true
   },
   "outputs": [
    {
     "data": {
      "text/plain": [
       "(True, False)"
      ]
     },
     "execution_count": 7,
     "metadata": {},
     "output_type": "execute_result"
    },
    {
     "data": {
      "image/png": "[encoded data removed]",
      "text/plain": [
       "<Figure size 432x288 with 1 Axes>"
      ]
     },
     "metadata": {},
     "output_type": "display_data"
    }
   ],
   "source": [
    "inside, outside = (62.5, -150), (56, -145)\n",
    "plot_state(\"Alaska\")\n",
    "plt.scatter([i[1] for i in [inside, outside]], [i[0] for i in [inside, outside]], color = \"red\");\n",
    "alaska_polygon.contains_point(inside), alaska_polygon.contains_point(outside)"
   ]
  },
  {
   "cell_type": "code",
   "execution_count": null,
   "metadata": {},
   "outputs": [],
   "source": []
  },
  {
   "cell_type": "code",
   "execution_count": null,
   "metadata": {},
   "outputs": [],
   "source": []
  },
  {
   "cell_type": "code",
   "execution_count": null,
   "metadata": {},
   "outputs": [],
   "source": []
  },
  {
   "cell_type": "code",
   "execution_count": null,
   "metadata": {},
   "outputs": [],
   "source": []
  },
  {
   "cell_type": "code",
   "execution_count": null,
   "metadata": {},
   "outputs": [],
   "source": []
  },
  {
   "cell_type": "code",
   "execution_count": null,
   "metadata": {},
   "outputs": [],
   "source": []
  }
 ],
 "metadata": {
  "@webio": {
   "lastCommId": null,
   "lastKernelId": null
  },
  "kernelspec": {
   "display_name": "Python 3",
   "language": "python",
   "name": "python3"
  },
  "language_info": {
   "codemirror_mode": {
    "name": "ipython",
    "version": 3
   },
   "file_extension": ".py",
   "mimetype": "text/x-python",
   "name": "python",
   "nbconvert_exporter": "python",
   "pygments_lexer": "ipython3",
   "version": "3.6.5"
  }
 },
 "nbformat": 4,
 "nbformat_minor": 2
}
